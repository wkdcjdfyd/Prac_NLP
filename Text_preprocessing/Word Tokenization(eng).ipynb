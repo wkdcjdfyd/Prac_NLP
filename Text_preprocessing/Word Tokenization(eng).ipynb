{
 "cells": [
  {
   "cell_type": "markdown",
   "id": "stuck-obligation",
   "metadata": {},
   "source": [
    "# 단어 토큰화(Word Tokenization) - 영어"
   ]
  },
  {
   "cell_type": "markdown",
   "id": "divided-rachel",
   "metadata": {},
   "source": [
    "## NLTK 라이브러리 활용"
   ]
  },
  {
   "cell_type": "markdown",
   "id": "played-poultry",
   "metadata": {},
   "source": [
    "```python\n",
    "import nlkt\n",
    "\n",
    "nltk.download()\n",
    "```\n",
    "위 코드를 입력하면 **NLTK Downloader**가 실행된다.<br>\n",
    "Models 중 **punkt**를 install 해주어야 아래 코드들이 정상적으로 동작한다."
   ]
  },
  {
   "cell_type": "markdown",
   "id": "quarterly-calculator",
   "metadata": {},
   "source": [
    "# 1. word_tokenize 함수"
   ]
  },
  {
   "cell_type": "code",
   "execution_count": 1,
   "id": "incredible-agent",
   "metadata": {},
   "outputs": [],
   "source": [
    "from nltk.tokenize import word_tokenize"
   ]
  },
  {
   "cell_type": "code",
   "execution_count": 23,
   "id": "floral-pound",
   "metadata": {},
   "outputs": [],
   "source": [
    "text = \"Don't be fooled by the dark sounding name, Mr. Jone's Orphanage is as cheery as cheery goes for a pastry shop.\""
   ]
  },
  {
   "cell_type": "code",
   "execution_count": 24,
   "id": "eight-variance",
   "metadata": {},
   "outputs": [
    {
     "name": "stdout",
     "output_type": "stream",
     "text": [
      "['Do', \"n't\", 'be', 'fooled', 'by', 'the', 'dark', 'sounding', 'name', ',', 'Mr.', 'Jone', \"'s\", 'Orphanage', 'is', 'as', 'cheery', 'as', 'cheery', 'goes', 'for', 'a', 'pastry', 'shop', '.']\n"
     ]
    }
   ],
   "source": [
    "print(word_tokenize(text))"
   ]
  },
  {
   "cell_type": "markdown",
   "id": "occupied-jumping",
   "metadata": {},
   "source": [
    "### word_tokenize 함수를 활용했을 때 결과\n",
    "<br>Don't -> Do + n't<br>\n",
    "Jone's -> Jone + 's"
   ]
  },
  {
   "cell_type": "markdown",
   "id": "tracked-shuttle",
   "metadata": {},
   "source": [
    "# 2. WordPunctTokenizer"
   ]
  },
  {
   "cell_type": "code",
   "execution_count": 8,
   "id": "twelve-dublin",
   "metadata": {},
   "outputs": [],
   "source": [
    "from nltk.tokenize import WordPunctTokenizer"
   ]
  },
  {
   "cell_type": "code",
   "execution_count": 25,
   "id": "literary-society",
   "metadata": {},
   "outputs": [],
   "source": [
    "text = \"Don't be fooled by the dark sounding name, Mr. Jone's Orphanage is as cheery as cheery goes for a pastry shop.\""
   ]
  },
  {
   "cell_type": "code",
   "execution_count": 26,
   "id": "apart-greek",
   "metadata": {
    "scrolled": true
   },
   "outputs": [
    {
     "name": "stdout",
     "output_type": "stream",
     "text": [
      "['Don', \"'\", 't', 'be', 'fooled', 'by', 'the', 'dark', 'sounding', 'name', ',', 'Mr', '.', 'Jone', \"'\", 's', 'Orphanage', 'is', 'as', 'cheery', 'as', 'cheery', 'goes', 'for', 'a', 'pastry', 'shop', '.']\n"
     ]
    }
   ],
   "source": [
    "print(WordPunctTokenizer().tokenize(text))"
   ]
  },
  {
   "cell_type": "markdown",
   "id": "moved-vinyl",
   "metadata": {},
   "source": [
    "### WordPunctTokenizer 함수를 활용했을 때 결과\n",
    "\n",
    "구두점을 별도로 분류하는 특징을 가지고 있음<br>\n",
    "Don't -> Don + ' + t<br>\n",
    "Jone's -> Jone + ' + s"
   ]
  },
  {
   "cell_type": "markdown",
   "id": "municipal-occasions",
   "metadata": {},
   "source": [
    "# 3. text_to_word_sequence 함수"
   ]
  },
  {
   "cell_type": "code",
   "execution_count": 16,
   "id": "bronze-google",
   "metadata": {},
   "outputs": [],
   "source": [
    "from tensorflow.keras.preprocessing.text import text_to_word_sequence"
   ]
  },
  {
   "cell_type": "code",
   "execution_count": 17,
   "id": "breeding-christmas",
   "metadata": {},
   "outputs": [],
   "source": [
    "text = \"Don't be fooled by the dark sounding name, Mr. Jone's Orphanage is as cheery as cheery goes for a pastry shop.\""
   ]
  },
  {
   "cell_type": "code",
   "execution_count": 27,
   "id": "gentle-updating",
   "metadata": {},
   "outputs": [
    {
     "name": "stdout",
     "output_type": "stream",
     "text": [
      "[\"don't\", 'be', 'fooled', 'by', 'the', 'dark', 'sounding', 'name', 'mr', \"jone's\", 'orphanage', 'is', 'as', 'cheery', 'as', 'cheery', 'goes', 'for', 'a', 'pastry', 'shop']\n"
     ]
    }
   ],
   "source": [
    "print(text_to_word_sequence(text))"
   ]
  },
  {
   "cell_type": "markdown",
   "id": "external-accessory",
   "metadata": {},
   "source": [
    "### keras의 text_to_word_sequence함수를 활용했을 때 결과\n",
    "기본적으로 모든 알파벳을 소문자로 바꾸면서 마침표나 컴마, 느낌표 등의 구두점을 제거함\n",
    "위의 두 함수와는 다르게 don't나 jone's 같은 경우에 '(apostrophe) 보존"
   ]
  },
  {
   "cell_type": "markdown",
   "id": "metropolitan-fiction",
   "metadata": {},
   "source": [
    "# 4. Penn Treebank Tokenization\n",
    "apostrophe을 구분하는 방법이 각각 함수들 마다 달랐다.<br>\n",
    "표준으로 쓰이고 있는 토큰화 방법 중 하나인 Penn Treebank Tokenization의 규칙은<br>\n",
    "1. 하이푼으로 구성된 단어는 하나로 유지한다.\n",
    "2. doesn't 같이 apostrophe로 접어가 함께하는 단어는 분리해준다."
   ]
  },
  {
   "cell_type": "code",
   "execution_count": 19,
   "id": "successful-transport",
   "metadata": {},
   "outputs": [],
   "source": [
    "from nltk.tokenize import TreebankWordTokenizer"
   ]
  },
  {
   "cell_type": "code",
   "execution_count": 20,
   "id": "contemporary-drill",
   "metadata": {},
   "outputs": [],
   "source": [
    "tokenizer=TreebankWordTokenizer()"
   ]
  },
  {
   "cell_type": "code",
   "execution_count": 21,
   "id": "present-outreach",
   "metadata": {},
   "outputs": [],
   "source": [
    "text=\"Starting a home-based restaurant may be an ideal. it doesn't have a food chain or restaurant of their own.\""
   ]
  },
  {
   "cell_type": "code",
   "execution_count": 22,
   "id": "sophisticated-lewis",
   "metadata": {},
   "outputs": [
    {
     "name": "stdout",
     "output_type": "stream",
     "text": [
      "['Starting', 'a', 'home-based', 'restaurant', 'may', 'be', 'an', 'ideal.', 'it', 'does', \"n't\", 'have', 'a', 'food', 'chain', 'or', 'restaurant', 'of', 'their', 'own', '.']\n"
     ]
    }
   ],
   "source": [
    "print(tokenizer.tokenize(text))"
   ]
  },
  {
   "cell_type": "markdown",
   "id": "bearing-hepatitis",
   "metadata": {},
   "source": [
    "위 규칙에 따라<br>\n",
    "home-based 유지<br>\n",
    "doesn't -> does + n't"
   ]
  }
 ],
 "metadata": {
  "kernelspec": {
   "display_name": "Python 3",
   "language": "python",
   "name": "python3"
  },
  "language_info": {
   "codemirror_mode": {
    "name": "ipython",
    "version": 3
   },
   "file_extension": ".py",
   "mimetype": "text/x-python",
   "name": "python",
   "nbconvert_exporter": "python",
   "pygments_lexer": "ipython3",
   "version": "3.8.8"
  }
 },
 "nbformat": 4,
 "nbformat_minor": 5
}
